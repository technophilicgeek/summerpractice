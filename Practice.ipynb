{
 "cells": [
  {
   "cell_type": "code",
   "execution_count": 53,
   "metadata": {},
   "outputs": [],
   "source": [
    "import statsmodels as st\n",
    "import pandas as pd\n",
    "import numpy as np\n",
    "import matplotlib.pyplot as plt\n",
    "import seaborn as sns"
   ]
  },
  {
   "cell_type": "markdown",
   "metadata": {},
   "source": [
    "Q1 "
   ]
  },
  {
   "cell_type": "code",
   "execution_count": 54,
   "metadata": {
    "scrolled": true
   },
   "outputs": [
    {
     "name": "stdout",
     "output_type": "stream",
     "text": [
      "Rows: 30000 Columns: 19\n"
     ]
    }
   ],
   "source": [
    "data = pd.read_csv(\"data.csv\")\n",
    "print(\"Rows:\", data.shape[0], \"Columns:\", data.shape[1])"
   ]
  },
  {
   "cell_type": "markdown",
   "metadata": {},
   "source": [
    "Q2"
   ]
  },
  {
   "cell_type": "code",
   "execution_count": 55,
   "metadata": {},
   "outputs": [
    {
     "name": "stdout",
     "output_type": "stream",
     "text": [
      "No. of defaults: 6636\n"
     ]
    }
   ],
   "source": [
    "print(\"No. of defaults:\",data['default payment next month'].value_counts()[1])"
   ]
  },
  {
   "cell_type": "markdown",
   "metadata": {},
   "source": [
    "Q3"
   ]
  },
  {
   "cell_type": "code",
   "execution_count": 56,
   "metadata": {},
   "outputs": [
    {
     "name": "stdout",
     "output_type": "stream",
     "text": [
      "Default Rate: 0.2212\n"
     ]
    }
   ],
   "source": [
    "print(\"Default Rate:\", data['default payment next month'].mean())"
   ]
  },
  {
   "cell_type": "markdown",
   "metadata": {},
   "source": [
    "Q4"
   ]
  },
  {
   "cell_type": "code",
   "execution_count": 57,
   "metadata": {},
   "outputs": [
    {
     "name": "stdout",
     "output_type": "stream",
     "text": [
      "Remaining Rows: 16434 Remaining Columns: 19\n"
     ]
    }
   ],
   "source": [
    "data_copy = data.loc[(data['BILL_AMT6']>0) & (data['Limit']>0) & (data['Debt']>31)]\n",
    "print(\"Remaining Rows:\", data_copy.shape[0], \"Remaining Columns:\", data_copy.shape[1])"
   ]
  },
  {
   "cell_type": "markdown",
   "metadata": {},
   "source": [
    "Q5"
   ]
  },
  {
   "cell_type": "code",
   "execution_count": 58,
   "metadata": {},
   "outputs": [
    {
     "name": "stdout",
     "output_type": "stream",
     "text": [
      "Default rate: 0.21504198612632347\n"
     ]
    }
   ],
   "source": [
    "print(\"Default rate:\",data_copy['default payment next month'].mean())"
   ]
  },
  {
   "cell_type": "markdown",
   "metadata": {},
   "source": [
    "Q6"
   ]
  },
  {
   "cell_type": "code",
   "execution_count": 59,
   "metadata": {},
   "outputs": [
    {
     "name": "stdout",
     "output_type": "stream",
     "text": [
      "Mean: 1.7047184027756808\n",
      "Minimum: 0.0\n",
      "Maximum: 2643.33\n"
     ]
    },
    {
     "name": "stderr",
     "output_type": "stream",
     "text": [
      "/usr/lib/python3/dist-packages/ipykernel_launcher.py:1: SettingWithCopyWarning: \n",
      "A value is trying to be set on a copy of a slice from a DataFrame.\n",
      "Try using .loc[row_indexer,col_indexer] = value instead\n",
      "\n",
      "See the caveats in the documentation: http://pandas.pydata.org/pandas-docs/stable/indexing.html#indexing-view-versus-copy\n",
      "  \"\"\"Entry point for launching an IPython kernel.\n"
     ]
    }
   ],
   "source": [
    "data_copy['payment ratio']=(data_copy['PAY_AMT6']/data_copy['BILL_AMT6'])\n",
    "print(\"Mean:\",data_copy['payment ratio'].mean())\n",
    "print(\"Minimum:\",data_copy['payment ratio'].min())\n",
    "print(\"Maximum:\",data_copy['payment ratio'].max())"
   ]
  },
  {
   "cell_type": "markdown",
   "metadata": {},
   "source": [
    "Q7"
   ]
  },
  {
   "cell_type": "code",
   "execution_count": 60,
   "metadata": {},
   "outputs": [
    {
     "name": "stdout",
     "output_type": "stream",
     "text": [
      "Before Rescaling: \n",
      "Minimum: 10100\n",
      "Maximum: 1000500\n",
      "Mean: 186878.86576609468\n",
      "After Rescaling:\n",
      "Minimum: 10.1\n",
      "Maximum: 1000.5\n",
      "Mean: 186.87886576609466\n"
     ]
    },
    {
     "name": "stderr",
     "output_type": "stream",
     "text": [
      "/usr/lib/python3/dist-packages/ipykernel_launcher.py:1: SettingWithCopyWarning: \n",
      "A value is trying to be set on a copy of a slice from a DataFrame.\n",
      "Try using .loc[row_indexer,col_indexer] = value instead\n",
      "\n",
      "See the caveats in the documentation: http://pandas.pydata.org/pandas-docs/stable/indexing.html#indexing-view-versus-copy\n",
      "  \"\"\"Entry point for launching an IPython kernel.\n"
     ]
    }
   ],
   "source": [
    "data_copy['credit limit']=(data_copy['Limit']/1000)\n",
    "print(\"Before Rescaling: \")\n",
    "print(\"Minimum:\",data_copy['Limit'].min())\n",
    "print(\"Maximum:\", data_copy['Limit'].max())\n",
    "print(\"Mean:\", data_copy['Limit'].mean())\n",
    "print(\"After Rescaling:\")\n",
    "print(\"Minimum:\", data_copy['credit limit'].min())\n",
    "print(\"Maximum:\", data_copy['credit limit'].max())\n",
    "print(\"Mean:\", data_copy['credit limit'].mean())"
   ]
  },
  {
   "cell_type": "markdown",
   "metadata": {},
   "source": [
    "Q8"
   ]
  },
  {
   "cell_type": "code",
   "execution_count": 61,
   "metadata": {},
   "outputs": [
    {
     "name": "stderr",
     "output_type": "stream",
     "text": [
      "/usr/lib/python3/dist-packages/ipykernel_launcher.py:1: SettingWithCopyWarning: \n",
      "A value is trying to be set on a copy of a slice from a DataFrame.\n",
      "Try using .loc[row_indexer,col_indexer] = value instead\n",
      "\n",
      "See the caveats in the documentation: http://pandas.pydata.org/pandas-docs/stable/indexing.html#indexing-view-versus-copy\n",
      "  \"\"\"Entry point for launching an IPython kernel.\n",
      "/usr/lib/python3/dist-packages/seaborn/categorical.py:1508: FutureWarning: remove_na is deprecated and is a private function. Do not use.\n",
      "  stat_data = remove_na(group_data[hue_mask])\n",
      "/usr/lib/python3/dist-packages/ipykernel_launcher.py:3: SettingWithCopyWarning: \n",
      "A value is trying to be set on a copy of a slice from a DataFrame.\n",
      "Try using .loc[row_indexer,col_indexer] = value instead\n",
      "\n",
      "See the caveats in the documentation: http://pandas.pydata.org/pandas-docs/stable/indexing.html#indexing-view-versus-copy\n",
      "  This is separate from the ipykernel package so we can avoid doing imports until\n"
     ]
    },
    {
     "name": "stdout",
     "output_type": "stream",
     "text": [
      "32.0\n",
      "81.0\n",
      "41.87550200803213\n"
     ]
    },
    {
     "data": {
      "image/png": "[encoded data removed]",
      "text/plain": [
       "<matplotlib.figure.Figure at 0x7f904a1d5ba8>"
      ]
     },
     "metadata": {},
     "output_type": "display_data"
    }
   ],
   "source": [
    "data_copy['pr_bins']=pd.cut(data_copy['payment ratio'],5,right =False)\n",
    "ax = sns.countplot(x='pr_bins', hue='default payment next month', data=data_copy)\n",
    "data_copy['cr_bins']=pd.cut(data_copy['credit limit'],range(10,1001,186),right =False)\n",
    "sns.countplot(x='cr_bins', hue='default payment next month', data=data_copy)\n",
    "print(data_copy['Debt'].min())\n",
    "print(data_copy['Debt'].max())\n",
    "print(data_copy['Debt'].mean())"
   ]
  },
  {
   "cell_type": "markdown",
   "metadata": {},
   "source": [
    "Q9"
   ]
  },
  {
   "cell_type": "code",
   "execution_count": 62,
   "metadata": {},
   "outputs": [
    {
     "name": "stderr",
     "output_type": "stream",
     "text": [
      "/usr/lib/python3/dist-packages/seaborn/categorical.py:1508: FutureWarning: remove_na is deprecated and is a private function. Do not use.\n",
      "  stat_data = remove_na(group_data[hue_mask])\n"
     ]
    },
    {
     "name": "stdout",
     "output_type": "stream",
     "text": [
      "32.0\n",
      "81.0\n",
      "41.87550200803213\n"
     ]
    },
    {
     "data": {
      "image/png": "[encoded data removed]",
      "text/plain": [
       "<matplotlib.figure.Figure at 0x7f904a9057b8>"
      ]
     },
     "metadata": {},
     "output_type": "display_data"
    }
   ],
   "source": [
    "sns.countplot(x='cr_bins', hue='default payment next month', data=data_copy)\n",
    "print(data_copy['Debt'].min())\n",
    "print(data_copy['Debt'].max())\n",
    "print(data_copy['Debt'].mean())"
   ]
  },
  {
   "cell_type": "markdown",
   "metadata": {},
   "source": [
    "Q10"
   ]
  },
  {
   "cell_type": "code",
   "execution_count": 63,
   "metadata": {},
   "outputs": [
    {
     "name": "stderr",
     "output_type": "stream",
     "text": [
      "/usr/lib/python3/dist-packages/ipykernel_launcher.py:1: SettingWithCopyWarning: \n",
      "A value is trying to be set on a copy of a slice from a DataFrame.\n",
      "Try using .loc[row_indexer,col_indexer] = value instead\n",
      "\n",
      "See the caveats in the documentation: http://pandas.pydata.org/pandas-docs/stable/indexing.html#indexing-view-versus-copy\n",
      "  \"\"\"Entry point for launching an IPython kernel.\n",
      "/usr/lib/python3/dist-packages/seaborn/categorical.py:1508: FutureWarning: remove_na is deprecated and is a private function. Do not use.\n",
      "  stat_data = remove_na(group_data[hue_mask])\n"
     ]
    },
    {
     "data": {
      "text/plain": [
       "<matplotlib.axes._subplots.AxesSubplot at 0x7f902eb25550>"
      ]
     },
     "execution_count": 63,
     "metadata": {},
     "output_type": "execute_result"
    },
    {
     "data": {
      "image/png": "[encoded data removed]",
      "text/plain": [
       "<matplotlib.figure.Figure at 0x7f904a8d29b0>"
      ]
     },
     "metadata": {},
     "output_type": "display_data"
    }
   ],
   "source": [
    "data_copy['d_bins']=pd.cut(data_copy['Debt'],range(32,81,9),right =False)\n",
    "sns.countplot(x='d_bins', hue='default payment next month', data=data_copy)"
   ]
  },
  {
   "cell_type": "markdown",
   "metadata": {},
   "source": [
    "Q11"
   ]
  },
  {
   "cell_type": "code",
   "execution_count": 64,
   "metadata": {},
   "outputs": [
    {
     "name": "stdout",
     "output_type": "stream",
     "text": [
      "a: No\n",
      "b: Yes\n",
      "c: Yes\n"
     ]
    }
   ],
   "source": [
    "print(\"a: No\")\n",
    "print(\"b: Yes\")\n",
    "print(\"c: Yes\")"
   ]
  },
  {
   "cell_type": "markdown",
   "metadata": {},
   "source": [
    "Q12"
   ]
  },
  {
   "cell_type": "code",
   "execution_count": 65,
   "metadata": {},
   "outputs": [
    {
     "name": "stdout",
     "output_type": "stream",
     "text": [
      "1st percentile for payment ratio: 0.0\n",
      "99th percentile for payment ratio: 24.968390804597707\n",
      "1st percentile for credit limit: 10.5\n",
      "99th percentile for credit limit: 510.4\n",
      "1st percentile for total debt: 32.0\n",
      "99th percentile for total debt: 63.0\n"
     ]
    }
   ],
   "source": [
    "print(\"1st percentile for payment ratio:\", data_copy['payment ratio'].quantile(0.01))\n",
    "print(\"99th percentile for payment ratio:\", data_copy['payment ratio'].quantile(0.99))\n",
    "print(\"1st percentile for credit limit:\", data_copy['credit limit'].quantile(0.01))\n",
    "print(\"99th percentile for credit limit:\", data_copy['credit limit'].quantile(0.99))\n",
    "print(\"1st percentile for total debt:\", data_copy['Debt'].quantile(0.01))\n",
    "print(\"99th percentile for total debt:\",data_copy['Debt'].quantile(0.99))"
   ]
  },
  {
   "cell_type": "markdown",
   "metadata": {},
   "source": [
    "Q13"
   ]
  },
  {
   "cell_type": "code",
   "execution_count": 66,
   "metadata": {},
   "outputs": [
    {
     "name": "stdout",
     "output_type": "stream",
     "text": [
      "Comparing mean for payment ratio\n",
      "1.7047184027756808\n",
      "0.8605587242670684\n",
      "Comparing mean for credit limit\n",
      "186.87886576609466\n",
      "185.93733601070952\n",
      "Comparing mean for total debt\n",
      "41.87550200803213\n",
      "41.83388097845929\n"
     ]
    },
    {
     "name": "stderr",
     "output_type": "stream",
     "text": [
      "/usr/lib/python3/dist-packages/ipykernel_launcher.py:4: SettingWithCopyWarning: \n",
      "A value is trying to be set on a copy of a slice from a DataFrame.\n",
      "Try using .loc[row_indexer,col_indexer] = value instead\n",
      "\n",
      "See the caveats in the documentation: http://pandas.pydata.org/pandas-docs/stable/indexing.html#indexing-view-versus-copy\n",
      "  after removing the cwd from sys.path.\n",
      "/usr/lib/python3/dist-packages/ipykernel_launcher.py:11: SettingWithCopyWarning: \n",
      "A value is trying to be set on a copy of a slice from a DataFrame.\n",
      "Try using .loc[row_indexer,col_indexer] = value instead\n",
      "\n",
      "See the caveats in the documentation: http://pandas.pydata.org/pandas-docs/stable/indexing.html#indexing-view-versus-copy\n",
      "  # This is added back by InteractiveShellApp.init_path()\n",
      "/usr/lib/python3/dist-packages/ipykernel_launcher.py:18: SettingWithCopyWarning: \n",
      "A value is trying to be set on a copy of a slice from a DataFrame.\n",
      "Try using .loc[row_indexer,col_indexer] = value instead\n",
      "\n",
      "See the caveats in the documentation: http://pandas.pydata.org/pandas-docs/stable/indexing.html#indexing-view-versus-copy\n"
     ]
    }
   ],
   "source": [
    "ul = data_copy['payment ratio'].quantile(0.99)\n",
    "ll = data_copy['payment ratio'].quantile(0)\n",
    "data_copy['win_pr'] = np.where(data_copy['payment ratio'] >= ul,ul,\n",
    "np.where(data_copy['payment ratio'] <= ll,ll,data_copy['payment ratio']))\n",
    "print(\"Comparing mean for payment ratio\")\n",
    "print(data_copy['payment ratio'].mean())\n",
    "print(data_copy['win_pr'].mean())\n",
    "ul = data_copy['credit limit'].quantile(0.99)\n",
    "ll = data_copy['credit limit'].quantile(0)\n",
    "data_copy['win_cl'] = np.where(data_copy['credit limit'] >= ul,ul,\n",
    "np.where(data_copy['credit limit'] <= ll,ll,data_copy['credit limit']))\n",
    "print(\"Comparing mean for credit limit\")\n",
    "print(data_copy['credit limit'].mean())\n",
    "print(data_copy['win_cl'].mean())\n",
    "ul = data_copy['Debt'].quantile(0.99)\n",
    "ll = data_copy['Debt'].quantile(0)\n",
    "data_copy['win_td'] = np.where(data_copy['Debt'] >= ul,ul,\n",
    "np.where(data_copy['Debt'] <= ll,ll,data_copy['Debt']))\n",
    "print(\"Comparing mean for total debt\")\n",
    "print(data_copy['Debt'].mean())\n",
    "print(data_copy['win_td'].mean())"
   ]
  },
  {
   "cell_type": "markdown",
   "metadata": {},
   "source": [
    "Q14"
   ]
  },
  {
   "cell_type": "code",
   "execution_count": 67,
   "metadata": {},
   "outputs": [
    {
     "name": "stdout",
     "output_type": "stream",
     "text": [
      "Mean: 1.0\n"
     ]
    },
    {
     "name": "stderr",
     "output_type": "stream",
     "text": [
      "/usr/lib/python3/dist-packages/ipykernel_launcher.py:1: SettingWithCopyWarning: \n",
      "A value is trying to be set on a copy of a slice from a DataFrame.\n",
      "Try using .loc[row_indexer,col_indexer] = value instead\n",
      "\n",
      "See the caveats in the documentation: http://pandas.pydata.org/pandas-docs/stable/indexing.html#indexing-view-versus-copy\n",
      "  \"\"\"Entry point for launching an IPython kernel.\n"
     ]
    }
   ],
   "source": [
    "data_copy['intercept'] = 1\n",
    "print(\"Mean:\",data_copy['intercept'].mean())"
   ]
  },
  {
   "cell_type": "markdown",
   "metadata": {},
   "source": [
    "Q15"
   ]
  },
  {
   "cell_type": "code",
   "execution_count": 68,
   "metadata": {},
   "outputs": [
    {
     "name": "stdout",
     "output_type": "stream",
     "text": [
      "X_train 13147\n",
      "X_test 3287\n",
      "y_train 13147\n",
      "y_test 3287\n"
     ]
    }
   ],
   "source": [
    "from sklearn.model_selection import train_test_split\n",
    "X = data_copy[['Debt', 'credit limit', 'intercept', 'payment ratio']]\n",
    "y = data_copy['default payment next month']\n",
    "X_train1, X_test1, y_train1, y_test1 = train_test_split(X, y, test_size = 0.2, random_state = 0)\n",
    "print(\"X_train\", len(X_train1))\n",
    "print(\"X_test\", len(X_test1))\n",
    "print(\"y_train\", len(y_train1))\n",
    "print(\"y_test\", len(y_test1))"
   ]
  },
  {
   "cell_type": "markdown",
   "metadata": {},
   "source": [
    "Q16"
   ]
  },
  {
   "cell_type": "code",
   "execution_count": 69,
   "metadata": {},
   "outputs": [
    {
     "name": "stdout",
     "output_type": "stream",
     "text": [
      "X_train 13147\n",
      "X_test 3287\n",
      "y_train 13147\n",
      "y_test 3287\n"
     ]
    }
   ],
   "source": [
    "X = pd.DataFrame()\n",
    "y = pd.DataFrame()\n",
    "X['Debt'] = data_copy['Debt']\n",
    "X['Credit limit'] = data_copy['credit limit']\n",
    "X['Intercept'] = data_copy['intercept']\n",
    "X['Payment Ratio'] = data_copy['payment ratio']\n",
    "y['default payment next month'] = data_copy['default payment next month']\n",
    "X_train2, X_test2, y_train2, y_test2 = train_test_split(X, y, test_size = 0.2, random_state = 0)\n",
    "print(\"X_train\", len(X_train2))\n",
    "print(\"X_test\", len(X_test2))\n",
    "print(\"y_train\", len(y_train2))\n",
    "print(\"y_test\", len(y_test2))"
   ]
  },
  {
   "cell_type": "markdown",
   "metadata": {},
   "source": [
    "Q17"
   ]
  },
  {
   "cell_type": "code",
   "execution_count": 70,
   "metadata": {},
   "outputs": [
    {
     "name": "stdout",
     "output_type": "stream",
     "text": [
      "Optimization terminated successfully.\n",
      "         Current function value: 0.501292\n",
      "         Iterations 7\n",
      "                               Logit Regression Results                               \n",
      "======================================================================================\n",
      "Dep. Variable:     default payment next month   No. Observations:                13147\n",
      "Model:                                  Logit   Df Residuals:                    13143\n",
      "Method:                                   MLE   Df Model:                            3\n",
      "Date:                        Mon, 27 Jun 2022   Pseudo R-squ.:                 0.03826\n",
      "Time:                                11:14:31   Log-Likelihood:                -6590.5\n",
      "converged:                               True   LL-Null:                       -6852.7\n",
      "Covariance Type:                    nonrobust   LLR p-value:                2.503e-113\n",
      "=================================================================================\n",
      "                    coef    std err          z      P>|z|      [0.025      0.975]\n",
      "---------------------------------------------------------------------------------\n",
      "Debt              0.0091      0.003      3.297      0.001       0.004       0.014\n",
      "credit limit     -0.0039      0.000    -20.559      0.000      -0.004      -0.004\n",
      "intercept        -1.0276      0.124     -8.264      0.000      -1.271      -0.784\n",
      "payment ratio    -0.0012      0.002     -0.752      0.452      -0.004       0.002\n",
      "=================================================================================\n",
      "Debt             1.009120\n",
      "credit limit     0.996113\n",
      "intercept        0.357867\n",
      "payment ratio    0.998755\n",
      "dtype: float64\n"
     ]
    }
   ],
   "source": [
    "import statsmodels.api as sm\n",
    "model1 = sm.Logit(y_train1,X_train1)\n",
    "result1 = model1.fit()\n",
    "print(result1.summary())\n",
    "print(np.exp(result1.params))"
   ]
  },
  {
   "cell_type": "markdown",
   "metadata": {},
   "source": [
    "Q18"
   ]
  },
  {
   "cell_type": "code",
   "execution_count": 71,
   "metadata": {},
   "outputs": [
    {
     "name": "stdout",
     "output_type": "stream",
     "text": [
      "Optimization terminated successfully.\n",
      "         Current function value: 0.501292\n",
      "         Iterations 7\n",
      "                               Logit Regression Results                               \n",
      "======================================================================================\n",
      "Dep. Variable:     default payment next month   No. Observations:                13147\n",
      "Model:                                  Logit   Df Residuals:                    13143\n",
      "Method:                                   MLE   Df Model:                            3\n",
      "Date:                        Mon, 27 Jun 2022   Pseudo R-squ.:                 0.03826\n",
      "Time:                                11:14:31   Log-Likelihood:                -6590.5\n",
      "converged:                               True   LL-Null:                       -6852.7\n",
      "Covariance Type:                    nonrobust   LLR p-value:                2.503e-113\n",
      "=================================================================================\n",
      "                    coef    std err          z      P>|z|      [0.025      0.975]\n",
      "---------------------------------------------------------------------------------\n",
      "Debt              0.0091      0.003      3.297      0.001       0.004       0.014\n",
      "Credit limit     -0.0039      0.000    -20.559      0.000      -0.004      -0.004\n",
      "Intercept        -1.0276      0.124     -8.264      0.000      -1.271      -0.784\n",
      "Payment Ratio    -0.0012      0.002     -0.752      0.452      -0.004       0.002\n",
      "=================================================================================\n",
      "Debt             1.009120\n",
      "Credit limit     0.996113\n",
      "Intercept        0.357867\n",
      "Payment Ratio    0.998755\n",
      "dtype: float64\n"
     ]
    }
   ],
   "source": [
    "import statsmodels.api as sm\n",
    "model2 = sm.Logit(y_train2,X_train2)\n",
    "result2 = model2.fit()\n",
    "print(result2.summary())\n",
    "print(np.exp(result2.params))"
   ]
  },
  {
   "cell_type": "markdown",
   "metadata": {},
   "source": [
    "Q19"
   ]
  },
  {
   "cell_type": "code",
   "execution_count": 72,
   "metadata": {},
   "outputs": [
    {
     "name": "stdout",
     "output_type": "stream",
     "text": [
      "a: Yes\n",
      "b: Yes\n",
      "c: Yes\n"
     ]
    }
   ],
   "source": [
    "print(\"a: Yes\")\n",
    "print(\"b: Yes\")\n",
    "print(\"c: Yes\")"
   ]
  },
  {
   "cell_type": "markdown",
   "metadata": {},
   "source": [
    "Q20"
   ]
  },
  {
   "cell_type": "code",
   "execution_count": 73,
   "metadata": {},
   "outputs": [
    {
     "name": "stdout",
     "output_type": "stream",
     "text": [
      "a: Yes\n",
      "b: Yes\n",
      "c: Yes\n"
     ]
    }
   ],
   "source": [
    "print(\"a: Yes\")\n",
    "print(\"b: Yes\")\n",
    "print(\"c: Yes\")"
   ]
  },
  {
   "cell_type": "markdown",
   "metadata": {},
   "source": [
    "Q21"
   ]
  },
  {
   "cell_type": "code",
   "execution_count": 80,
   "metadata": {},
   "outputs": [
    {
     "name": "stdout",
     "output_type": "stream",
     "text": [
      "AUC for train data 0.6408657434440338\n",
      "AUC for test data 0.6279330719531726\n"
     ]
    }
   ],
   "source": [
    "from sklearn.metrics import roc_auc_score\n",
    "from sklearn.linear_model import LogisticRegression\n",
    "logistic_model = LogisticRegression(random_state=0).fit(X_train1, y_train1)\n",
    "print(\"AUC for train data\", roc_auc_score(y_train1, logistic_model.predict_proba(X_train1)[:, 1]))\n",
    "print(\"AUC for test data\", roc_auc_score(y_test1, logistic_model.predict_proba(X_test1)[:, 1]))"
   ]
  },
  {
   "cell_type": "markdown",
   "metadata": {},
   "source": [
    "Q22"
   ]
  },
  {
   "cell_type": "code",
   "execution_count": 81,
   "metadata": {},
   "outputs": [
    {
     "name": "stdout",
     "output_type": "stream",
     "text": [
      "AUC for new train data 0.6408657434440338\n",
      "AUC for new test data 0.6279330719531726\n"
     ]
    }
   ],
   "source": [
    "from sklearn.metrics import roc_auc_score\n",
    "print(\"AUC for new train data\", roc_auc_score(y_train2, logistic_model.predict_proba(X_train2)[:, 1]))\n",
    "print(\"AUC for new test data\", roc_auc_score(y_test2, logistic_model.predict_proba(X_test2)[:, 1]))"
   ]
  },
  {
   "cell_type": "markdown",
   "metadata": {},
   "source": [
    "Q23"
   ]
  },
  {
   "cell_type": "code",
   "execution_count": 82,
   "metadata": {},
   "outputs": [
    {
     "name": "stdout",
     "output_type": "stream",
     "text": [
      "No\n"
     ]
    }
   ],
   "source": [
    "print(\"No\")"
   ]
  },
  {
   "cell_type": "markdown",
   "metadata": {},
   "source": [
    "Q24"
   ]
  },
  {
   "cell_type": "code",
   "execution_count": 83,
   "metadata": {},
   "outputs": [
    {
     "name": "stdout",
     "output_type": "stream",
     "text": [
      "Accuracy: 78.44375142618088 %\n",
      "Minimum Probability: 0.002831128469853428\n",
      "Maximum Probability: 0.9971688715301465\n",
      "Total Predicted Defaults: 0\n",
      "Predicted default rate: 0.0\n"
     ]
    }
   ],
   "source": [
    "m = LogisticRegression(random_state=0).fit(X_train1, y_train1)\n",
    "predicts = m.predict(X_train1)\n",
    "probs = m.predict_proba(X_train1)\n",
    "score = m.score(X_train1, y_train1)\n",
    "predicted_default_rate = np.count_nonzero(predicts == 1) / (len(predicts))\n",
    "print('Accuracy:', 100*score, '%')\n",
    "print('Minimum Probability:', probs.min())\n",
    "print('Maximum Probability:', probs.max())\n",
    "print('Total Predicted Defaults:' , np.count_nonzero(predicts == 1))\n",
    "print('Predicted default rate:', predicted_default_rate)"
   ]
  },
  {
   "cell_type": "markdown",
   "metadata": {},
   "source": [
    "Q25"
   ]
  },
  {
   "cell_type": "code",
   "execution_count": 84,
   "metadata": {},
   "outputs": [
    {
     "name": "stdout",
     "output_type": "stream",
     "text": [
      "Accuracy: 78.44375142618088 %\n",
      "Minimum Probability: 0.002831128469853428\n",
      "Minimum Probability: 0.9971688715301465\n",
      "Total Predicted Defaults: 0\n",
      "Predicted default rate: 0.0\n"
     ]
    },
    {
     "name": "stderr",
     "output_type": "stream",
     "text": [
      "/usr/local/lib/python3.6/dist-packages/sklearn/utils/validation.py:63: DataConversionWarning: A column-vector y was passed when a 1d array was expected. Please change the shape of y to (n_samples, ), for example using ravel().\n",
      "  return f(*args, **kwargs)\n"
     ]
    }
   ],
   "source": [
    "m2 = LogisticRegression(random_state=0).fit(X_train2, y_train2)\n",
    "predicts2 = m2.predict(X_train2)\n",
    "probs2 = m2.predict_proba(X_train2)\n",
    "score = m2.score(X_train2, y_train2)\n",
    "predicted_default_rate2 = np.count_nonzero(predicts2 == 1) / (len(predicts2))\n",
    "print('Accuracy:', 100*score , '%')\n",
    "print('Minimum Probability:', probs2.min())\n",
    "print('Minimum Probability:', probs2.max())\n",
    "print('Total Predicted Defaults:' , np.count_nonzero(predicts2 == 1))\n",
    "print('Predicted default rate:', predicted_default_rate2)"
   ]
  },
  {
   "cell_type": "code",
   "execution_count": null,
   "metadata": {},
   "outputs": [],
   "source": []
  }
 ],
 "metadata": {
  "kernelspec": {
   "display_name": "Python 3",
   "language": "python",
   "name": "python3"
  },
  "language_info": {
   "codemirror_mode": {
    "name": "ipython",
    "version": 3
   },
   "file_extension": ".py",
   "mimetype": "text/x-python",
   "name": "python",
   "nbconvert_exporter": "python",
   "pygments_lexer": "ipython3",
   "version": "3.6.9"
  }
 },
 "nbformat": 4,
 "nbformat_minor": 5
}
